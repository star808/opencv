{
 "cells": [
  {
   "cell_type": "markdown",
   "id": "f803f7f7-199b-44bf-b287-120f30e40223",
   "metadata": {},
   "source": [
    "numpy 是一个运行速度非常快的数学库，主要用于数组计算，包含\n",
    " - 一个强大的N维数组对象ndarray\n",
    " - 广播功能函数\n",
    " - 整合C/C++/Fortran 代码的工具\n",
    " - 线性代数、傅里叶变换、随机数生成等功能"
   ]
  },
  {
   "cell_type": "markdown",
   "id": "620a28d6-0d9f-418a-8501-b0a62b099ad8",
   "metadata": {},
   "source": [
    "Numpy 通常与SciPy 和 Matplotlib 一起使用，这种组合广泛用于替代 MatLab,是一个强大的科学计算环境，有助于我们通过Python 学习数据科学或者机器学习"
   ]
  },
  {
   "cell_type": "markdown",
   "id": "d487e05f-bfda-4b99-a5bb-59cfb000021a",
   "metadata": {},
   "source": [
    "##  NumPy Ndarray 对象"
   ]
  },
  {
   "cell_type": "code",
   "execution_count": 2,
   "id": "b7791587-77a4-40ed-a03d-8c38f2e4eb1f",
   "metadata": {},
   "outputs": [
    {
     "name": "stdout",
     "output_type": "stream",
     "text": [
      "[1 2 3]\n"
     ]
    }
   ],
   "source": [
    "import numpy as np\n",
    "a = np.array([1,2,3])\n",
    "print(a)"
   ]
  },
  {
   "cell_type": "code",
   "execution_count": 6,
   "id": "c437095e-3115-423b-a7c2-3ac247a7c51e",
   "metadata": {},
   "outputs": [
    {
     "name": "stdout",
     "output_type": "stream",
     "text": [
      "[[1 2]\n",
      " [3 4]]\n"
     ]
    }
   ],
   "source": [
    "#多于一个维度\n",
    "import numpy as np\n",
    "a = np.array([[1,2],[3,4]])\n",
    "print (a)"
   ]
  },
  {
   "cell_type": "code",
   "execution_count": 10,
   "id": "21dda8d4-7d37-45f3-821d-0ce98ee37778",
   "metadata": {},
   "outputs": [
    {
     "name": "stdout",
     "output_type": "stream",
     "text": [
      "[[1 2 3 4 5]]\n"
     ]
    }
   ],
   "source": [
    "#z最小维度\n",
    "b = np.array([1,2,3,4,5],ndmin=2)\n",
    "print(b)"
   ]
  },
  {
   "cell_type": "code",
   "execution_count": 11,
   "id": "0a6b09f6-0dde-4eaa-baab-ce4882e02d8d",
   "metadata": {},
   "outputs": [
    {
     "name": "stdout",
     "output_type": "stream",
     "text": [
      "[1.+0.j 2.+0.j 3.+0.j]\n"
     ]
    }
   ],
   "source": [
    "#dtype 参数\n",
    "import numpy as np\n",
    "a = np.array([1,2,3],dtype=complex)\n",
    "print(a)"
   ]
  },
  {
   "cell_type": "markdown",
   "id": "5334f1c5-412c-4e3c-b269-a2479c82d810",
   "metadata": {},
   "source": [
    "ndarray 对象由计算机内存的连续一维部分组成，并结合索引模式，将每个元素映射到内存块中的一个位置。内存块以行顺序或列顺序来保存元素"
   ]
  },
  {
   "cell_type": "markdown",
   "id": "1808209d-40da-43ea-a985-2e9b6692d786",
   "metadata": {},
   "source": [
    " ## Numpy 数据类型"
   ]
  },
  {
   "cell_type": "markdown",
   "id": "ff97fb5e-31bc-4249-acd8-3fb9fa411b85",
   "metadata": {},
   "source": [
    "numpy 支持的数据类型比Python 内置的类型要多很多，基本上可以和C语言的数据类型对应上"
   ]
  },
  {
   "cell_type": "markdown",
   "id": "9d011417-3806-4226-9191-4fa5dcf8ee34",
   "metadata": {},
   "source": [
    "数据类型对象(dtype) 用来描述与数组对应的内存区域是如何使用"
   ]
  },
  {
   "cell_type": "code",
   "execution_count": 12,
   "id": "dfa93358-3baa-40dd-bcac-95bac10a5eca",
   "metadata": {},
   "outputs": [
    {
     "name": "stdout",
     "output_type": "stream",
     "text": [
      "int32\n"
     ]
    }
   ],
   "source": [
    "import numpy as np\n",
    "#使用标量类型\n",
    "dt = np.dtype(np.int32)\n",
    "print(dt)"
   ]
  },
  {
   "cell_type": "code",
   "execution_count": 14,
   "id": "80ee3181-61dc-425f-bbbc-3703d381d493",
   "metadata": {},
   "outputs": [
    {
     "name": "stdout",
     "output_type": "stream",
     "text": [
      "int32\n"
     ]
    }
   ],
   "source": [
    "import numpy as np\n",
    "#int8,int16,int32,int64 四种数据类型可以使用字符串'i1',i2,i4,i8 代替\n",
    "dt = np.dtype('i4')\n",
    "print(dt)"
   ]
  },
  {
   "cell_type": "code",
   "execution_count": 16,
   "id": "1364c39c-b941-4ffd-a463-0dd0d3c2cfc3",
   "metadata": {},
   "outputs": [
    {
     "name": "stdout",
     "output_type": "stream",
     "text": [
      "int32\n"
     ]
    }
   ],
   "source": [
    "import numpy as np\n",
    "#字节顺序标注\n",
    "dt = np.dtype('<i4')\n",
    "print(dt)"
   ]
  },
  {
   "cell_type": "code",
   "execution_count": null,
   "id": "14011d59-cba4-4ec5-a83f-3d569ea56662",
   "metadata": {},
   "outputs": [],
   "source": [
    "下面实例展示结构化数据类型的使用， 类型字段和对应的实际类型将被创建"
   ]
  },
  {
   "cell_type": "code",
   "execution_count": 20,
   "id": "ac8078fb-2453-485e-b28a-845dc6e5e7a6",
   "metadata": {},
   "outputs": [
    {
     "name": "stdout",
     "output_type": "stream",
     "text": [
      "[('age', 'i1')]\n",
      "[(10,) (20,) (30,)]\n",
      "[10 20 30]\n"
     ]
    }
   ],
   "source": [
    "#首先创建结构化数据类型\n",
    "import numpy as np\n",
    "dt = np.dtype([('age',np.int8)])\n",
    "print(dt)\n",
    "#将数据类型应用于ndarray 对象\n",
    "a = np.array([(10,),(20,),(30,)],dtype=dt)\n",
    "print(a)\n",
    "#类型字段可以用于存取实际的age列\n",
    "print(a['age'])\n"
   ]
  },
  {
   "cell_type": "markdown",
   "id": "18dae43e-2dfa-46dc-8d2a-4d7dc4768766",
   "metadata": {},
   "source": [
    "定义一个结构化数据类型student"
   ]
  },
  {
   "cell_type": "code",
   "execution_count": 25,
   "id": "3cf7511c-db62-4212-8d51-b3f5b878b02b",
   "metadata": {},
   "outputs": [
    {
     "name": "stdout",
     "output_type": "stream",
     "text": [
      "[('name', 'S20'), ('age', 'i1'), ('marks', '<f4')]\n",
      "2\n"
     ]
    }
   ],
   "source": [
    "import numpy as np\n",
    "student = np.dtype([('name','S20'),('age','i1'),('marks','f4')])\n",
    "a = np.array([('age',21,50),('x',18,75)],dtype=student)\n",
    "print(student)\n",
    "print(a.size)"
   ]
  },
  {
   "cell_type": "code",
   "execution_count": null,
   "id": "7f807532-de1a-4c9c-9da5-4e9ade65ad5a",
   "metadata": {},
   "outputs": [],
   "source": [
    "每个内建类型都有一个唯一定义它的字符代码"
   ]
  }
 ],
 "metadata": {
  "kernelspec": {
   "display_name": "Python 3 (ipykernel)",
   "language": "python",
   "name": "python3"
  },
  "language_info": {
   "codemirror_mode": {
    "name": "ipython",
    "version": 3
   },
   "file_extension": ".py",
   "mimetype": "text/x-python",
   "name": "python",
   "nbconvert_exporter": "python",
   "pygments_lexer": "ipython3",
   "version": "3.11.7"
  }
 },
 "nbformat": 4,
 "nbformat_minor": 5
}
